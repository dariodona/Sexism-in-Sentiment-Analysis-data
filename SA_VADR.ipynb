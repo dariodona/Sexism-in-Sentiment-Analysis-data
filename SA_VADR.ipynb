{
 "cells": [
  {
   "cell_type": "code",
   "execution_count": 24,
   "id": "8ee2ccbe",
   "metadata": {},
   "outputs": [],
   "source": [
    "import transformers as trf\n",
    "from transformers import pipeline\n",
    "import pandas as pd\n",
    "import numpy as np\n",
    "import vaderSentiment as vdr\n",
    "from vaderSentiment.vaderSentiment import SentimentIntensityAnalyzer\n",
    "import nltk\n",
    "from nltk.corpus import movie_reviews\n",
    "from nltk.stem import WordNetLemmatizer\n",
    "from nltk.corpus import wordnet\n",
    "import random\n",
    "from nrclex import NRCLex\n",
    "import flair\n",
    "from flair.models import TextClassifier\n",
    "from flair.data import Sentence\n",
    "import pattern\n",
    "from pattern.en import sentiment, Sentence\n",
    "from nltk import tokenize"
   ]
  },
  {
   "cell_type": "code",
   "execution_count": 82,
   "id": "5ff4ec17",
   "metadata": {},
   "outputs": [],
   "source": [
    "df = pd.read_excel('C:/Users/dario/Documents/Sentiment Analysis Lab/Congreso ciencia y feminismo/micromachismos sentiment_fin.xlsx')"
   ]
  },
  {
   "cell_type": "code",
   "execution_count": 83,
   "id": "8c7234c7",
   "metadata": {},
   "outputs": [
    {
     "data": {
      "text/html": [
       "<div>\n",
       "<style scoped>\n",
       "    .dataframe tbody tr th:only-of-type {\n",
       "        vertical-align: middle;\n",
       "    }\n",
       "\n",
       "    .dataframe tbody tr th {\n",
       "        vertical-align: top;\n",
       "    }\n",
       "\n",
       "    .dataframe thead th {\n",
       "        text-align: right;\n",
       "    }\n",
       "</style>\n",
       "<table border=\"1\" class=\"dataframe\">\n",
       "  <thead>\n",
       "    <tr style=\"text-align: right;\">\n",
       "      <th></th>\n",
       "      <th>IDENTIFICADOR</th>\n",
       "      <th>FECHA</th>\n",
       "      <th>FORMATO</th>\n",
       "      <th>AUTORÍA</th>\n",
       "      <th>TITULAR</th>\n",
       "      <th>Paragraph</th>\n",
       "    </tr>\n",
       "  </thead>\n",
       "  <tbody>\n",
       "    <tr>\n",
       "      <th>0</th>\n",
       "      <td>EP-01</td>\n",
       "      <td>2023-02-08</td>\n",
       "      <td>Editorial</td>\n",
       "      <td>NaN</td>\n",
       "      <td>Proteger el ‘solo sí es sí’</td>\n",
       "      <td>La presentación en solitario por parte del soc...</td>\n",
       "    </tr>\n",
       "    <tr>\n",
       "      <th>1</th>\n",
       "      <td>EP-01</td>\n",
       "      <td>2023-02-08</td>\n",
       "      <td>Editorial</td>\n",
       "      <td>NaN</td>\n",
       "      <td>Proteger el ‘solo sí es sí’</td>\n",
       "      <td>Más allá del previsible machismo de muchos mie...</td>\n",
       "    </tr>\n",
       "    <tr>\n",
       "      <th>2</th>\n",
       "      <td>EP-01</td>\n",
       "      <td>2023-02-08</td>\n",
       "      <td>Editorial</td>\n",
       "      <td>NaN</td>\n",
       "      <td>Proteger el ‘solo sí es sí’</td>\n",
       "      <td>En su definición de consentimiento, la ley asp...</td>\n",
       "    </tr>\n",
       "    <tr>\n",
       "      <th>3</th>\n",
       "      <td>EP-01</td>\n",
       "      <td>2023-02-08</td>\n",
       "      <td>Editorial</td>\n",
       "      <td>NaN</td>\n",
       "      <td>Proteger el ‘solo sí es sí’</td>\n",
       "      <td>Políticamente, el Gobierno de coalición no pue...</td>\n",
       "    </tr>\n",
       "    <tr>\n",
       "      <th>4</th>\n",
       "      <td>EP-02</td>\n",
       "      <td>2023-02-13</td>\n",
       "      <td>Tribuna</td>\n",
       "      <td>Manuel Cancio Meliá</td>\n",
       "      <td>‘Ley del solo sí es sí’: un debate irreal</td>\n",
       "      <td>Asistimos a un enfrentamiento muy intenso entr...</td>\n",
       "    </tr>\n",
       "  </tbody>\n",
       "</table>\n",
       "</div>"
      ],
      "text/plain": [
       "  IDENTIFICADOR      FECHA    FORMATO              AUTORÍA  \\\n",
       "0         EP-01 2023-02-08  Editorial                  NaN   \n",
       "1         EP-01 2023-02-08  Editorial                  NaN   \n",
       "2         EP-01 2023-02-08  Editorial                  NaN   \n",
       "3         EP-01 2023-02-08  Editorial                  NaN   \n",
       "4         EP-02 2023-02-13    Tribuna  Manuel Cancio Meliá   \n",
       "\n",
       "                                     TITULAR  \\\n",
       "0                Proteger el ‘solo sí es sí’   \n",
       "1                Proteger el ‘solo sí es sí’   \n",
       "2                Proteger el ‘solo sí es sí’   \n",
       "3                Proteger el ‘solo sí es sí’   \n",
       "4  ‘Ley del solo sí es sí’: un debate irreal   \n",
       "\n",
       "                                           Paragraph  \n",
       "0  La presentación en solitario por parte del soc...  \n",
       "1  Más allá del previsible machismo de muchos mie...  \n",
       "2  En su definición de consentimiento, la ley asp...  \n",
       "3  Políticamente, el Gobierno de coalición no pue...  \n",
       "4  Asistimos a un enfrentamiento muy intenso entr...  "
      ]
     },
     "execution_count": 83,
     "metadata": {},
     "output_type": "execute_result"
    }
   ],
   "source": [
    "df.head()"
   ]
  },
  {
   "cell_type": "code",
   "execution_count": 84,
   "id": "31769b57",
   "metadata": {},
   "outputs": [],
   "source": [
    "lemmatizer = WordNetLemmatizer()\n",
    "w_tokenizer = nltk.tokenize.WhitespaceTokenizer()\n",
    "\n",
    "def lemmatize_text(text):\n",
    "    return [lemmatizer.lemmatize(w) for w in w_tokenizer.tokenize(text)]"
   ]
  },
  {
   "cell_type": "code",
   "execution_count": 85,
   "id": "3ac4c499",
   "metadata": {},
   "outputs": [
    {
     "name": "stderr",
     "output_type": "stream",
     "text": [
      "C:\\Users\\dario\\AppData\\Local\\Temp/ipykernel_12832/1136004212.py:3: SettingWithCopyWarning: \n",
      "A value is trying to be set on a copy of a slice from a DataFrame\n",
      "\n",
      "See the caveats in the documentation: https://pandas.pydata.org/pandas-docs/stable/user_guide/indexing.html#returning-a-view-versus-a-copy\n",
      "  df['Paragraph'][i]=str(df['Paragraph'][i])\n"
     ]
    }
   ],
   "source": [
    "df['lem'] = df['Paragraph']\n",
    "for i in range(0, len(df['Paragraph'])):\n",
    "    df['Paragraph'][i]=str(df['Paragraph'][i])\n",
    "df['lem'] = df['Paragraph'].apply(lemmatize_text)\n",
    "df['lem'] = df['lem'].apply(' '.join)"
   ]
  },
  {
   "cell_type": "code",
   "execution_count": 86,
   "id": "8aa323a1",
   "metadata": {},
   "outputs": [],
   "source": [
    "analyzer = SentimentIntensityAnalyzer()"
   ]
  },
  {
   "cell_type": "code",
   "execution_count": 87,
   "id": "d91457a5",
   "metadata": {},
   "outputs": [
    {
     "data": {
      "text/plain": [
       "{'neg': 0.0, 'neu': 0.233, 'pos': 0.767, 'compound': 0.9342}"
      ]
     },
     "execution_count": 87,
     "metadata": {},
     "output_type": "execute_result"
    }
   ],
   "source": [
    "analyzer.polarity_scores(\"¡¡¡VADER es MUY INTELIGENTE, guapo y DIVERTIDO!!!\")"
   ]
  },
  {
   "cell_type": "code",
   "execution_count": 88,
   "id": "612838c1",
   "metadata": {},
   "outputs": [],
   "source": [
    "df['vadr']=df['lem']"
   ]
  },
  {
   "cell_type": "code",
   "execution_count": 89,
   "id": "17c4157e",
   "metadata": {},
   "outputs": [
    {
     "name": "stderr",
     "output_type": "stream",
     "text": [
      "C:\\Users\\dario\\AppData\\Local\\Temp/ipykernel_12832/4064444881.py:2: SettingWithCopyWarning: \n",
      "A value is trying to be set on a copy of a slice from a DataFrame\n",
      "\n",
      "See the caveats in the documentation: https://pandas.pydata.org/pandas-docs/stable/user_guide/indexing.html#returning-a-view-versus-a-copy\n",
      "  df['vadr'][i]=analyzer.polarity_scores(df['Paragraph'][i])['compound']\n"
     ]
    }
   ],
   "source": [
    "for i in range(0, len(df['Paragraph'])):\n",
    "    df['vadr'][i]=analyzer.polarity_scores(df['Paragraph'][i])['compound']"
   ]
  },
  {
   "cell_type": "code",
   "execution_count": 90,
   "id": "1bc7549c",
   "metadata": {},
   "outputs": [],
   "source": [
    "df['pol']=df['vadr']"
   ]
  },
  {
   "cell_type": "code",
   "execution_count": 91,
   "id": "a3652f52",
   "metadata": {},
   "outputs": [],
   "source": [
    "for i in range(0, len(df['lem'])):\n",
    "    if(df['vadr'][i]>0):\n",
    "        df['pol']='pos'"
   ]
  },
  {
   "cell_type": "code",
   "execution_count": 92,
   "id": "19fff1db",
   "metadata": {},
   "outputs": [],
   "source": [
    "for i in range(0, len(df['lem'])):\n",
    "    if(df['vadr'][i]==0):\n",
    "        df['pol'][i]='neu'"
   ]
  },
  {
   "cell_type": "code",
   "execution_count": 93,
   "id": "84f9ee3a",
   "metadata": {},
   "outputs": [
    {
     "name": "stderr",
     "output_type": "stream",
     "text": [
      "C:\\Users\\dario\\AppData\\Local\\Temp/ipykernel_12832/2019282830.py:3: SettingWithCopyWarning: \n",
      "A value is trying to be set on a copy of a slice from a DataFrame\n",
      "\n",
      "See the caveats in the documentation: https://pandas.pydata.org/pandas-docs/stable/user_guide/indexing.html#returning-a-view-versus-a-copy\n",
      "  df['pol'][i]='neg'\n"
     ]
    }
   ],
   "source": [
    "for i in range(0, len(df['lem'])):\n",
    "    if (df['vadr'][i]<0):\n",
    "        df['pol'][i]='neg'"
   ]
  },
  {
   "cell_type": "code",
   "execution_count": 94,
   "id": "2dc4b0da",
   "metadata": {},
   "outputs": [
    {
     "name": "stdout",
     "output_type": "stream",
     "text": [
      "0     -0.7579\n",
      "1     -0.9669\n",
      "2     -0.6345\n",
      "3      -0.204\n",
      "4      0.0553\n",
      "        ...  \n",
      "241   -0.5106\n",
      "242    0.0763\n",
      "243    0.0258\n",
      "244   -0.9928\n",
      "245   -0.9242\n",
      "Name: vadr, Length: 246, dtype: object\n",
      "0      neg\n",
      "1      neg\n",
      "2      neg\n",
      "3      neg\n",
      "4      pos\n",
      "      ... \n",
      "241    neg\n",
      "242    pos\n",
      "243    pos\n",
      "244    neg\n",
      "245    neg\n",
      "Name: pol, Length: 246, dtype: object\n"
     ]
    }
   ],
   "source": [
    "print (df['vadr'])\n",
    "print(df['pol'])"
   ]
  },
  {
   "cell_type": "code",
   "execution_count": 95,
   "id": "c1cde742",
   "metadata": {},
   "outputs": [],
   "source": [
    "df.to_excel('')"
   ]
  },
  {
   "cell_type": "code",
   "execution_count": null,
   "id": "bf8f8521",
   "metadata": {},
   "outputs": [],
   "source": []
  }
 ],
 "metadata": {
  "kernelspec": {
   "display_name": "Python 3 (ipykernel)",
   "language": "python",
   "name": "python3"
  },
  "language_info": {
   "codemirror_mode": {
    "name": "ipython",
    "version": 3
   },
   "file_extension": ".py",
   "mimetype": "text/x-python",
   "name": "python",
   "nbconvert_exporter": "python",
   "pygments_lexer": "ipython3",
   "version": "3.9.7"
  }
 },
 "nbformat": 4,
 "nbformat_minor": 5
}
