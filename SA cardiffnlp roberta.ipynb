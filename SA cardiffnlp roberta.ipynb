{
 "cells": [
  {
   "cell_type": "code",
   "execution_count": 10,
   "id": "8ee2ccbe",
   "metadata": {},
   "outputs": [],
   "source": [
    "import pandas as pd\n",
    "import transformers\n",
    "from transformers import(\n",
    "    AutoTokenizer,\n",
    "    AutoConfig,\n",
    "    AutoModelForSequenceClassification,\n",
    "    DataCollatorWithPadding,\n",
    "    TrainingArguments,\n",
    "    Trainer,\n",
    "    pipeline\n",
    ")\n",
    "import evaluate\n",
    "import torch\n",
    "import numpy as np"
   ]
  },
  {
   "cell_type": "code",
   "execution_count": 5,
   "id": "3a8ec225",
   "metadata": {
    "scrolled": false
   },
   "outputs": [
    {
     "name": "stderr",
     "output_type": "stream",
     "text": [
      "Some weights of the model checkpoint at cardiffnlp/twitter-roberta-base-sentiment-latest were not used when initializing RobertaForSequenceClassification: ['roberta.pooler.dense.weight', 'roberta.pooler.dense.bias']\n",
      "- This IS expected if you are initializing RobertaForSequenceClassification from the checkpoint of a model trained on another task or with another architecture (e.g. initializing a BertForSequenceClassification model from a BertForPreTraining model).\n",
      "- This IS NOT expected if you are initializing RobertaForSequenceClassification from the checkpoint of a model that you expect to be exactly identical (initializing a BertForSequenceClassification model from a BertForSequenceClassification model).\n"
     ]
    },
    {
     "name": "stdout",
     "output_type": "stream",
     "text": [
      "[0.6611220240592957, 0.30101537704467773, 0.03786257281899452]\n",
      "negative\n"
     ]
    }
   ],
   "source": [
    "tokenizer = AutoTokenizer.from_pretrained('cardiffnlp/twitter-roberta-base-sentiment-latest')\n",
    "model     = AutoModelForSequenceClassification.from_pretrained('cardiffnlp/twitter-roberta-base-sentiment-latest')\n",
    "classes   = ['negative', 'neutral', 'positive']\n",
    "text      = \"Dummy text\"\n",
    "\n",
    "encodedInput = tokenizer(text, return_tensors=\"pt\")\n",
    "output       = model(**encodedInput)\n",
    "output       = torch.softmax(output[0], dim=1).tolist()[0]\n",
    "\n",
    "print(output)\n",
    "max_idx = output.index(max(output))\n",
    "print(classes[max_idx])"
   ]
  },
  {
   "cell_type": "code",
   "execution_count": 6,
   "id": "2f1d3254",
   "metadata": {},
   "outputs": [
    {
     "name": "stdout",
     "output_type": "stream",
     "text": [
      "[0.6611220240592957, 0.30101537704467773, 0.03786257281899452]\n",
      "negative\n"
     ]
    }
   ],
   "source": [
    "max_idx = output.index(max(output))\n",
    "encodedInput = tokenizer(text, return_tensors=\"pt\")\n",
    "output       = model(**encodedInput)\n",
    "output       = torch.softmax(output[0], dim=1).tolist()[0]\n",
    "\n",
    "print(output)\n",
    "print(classes[max_idx])"
   ]
  },
  {
   "cell_type": "code",
   "execution_count": 11,
   "id": "447c57eb",
   "metadata": {},
   "outputs": [],
   "source": [
    "classifier = pipeline('sentiment-analysis', model=model, tokenizer=tokenizer)"
   ]
  },
  {
   "cell_type": "code",
   "execution_count": 7,
   "id": "5ff4ec17",
   "metadata": {},
   "outputs": [],
   "source": [
    "df = pd.read_excel('C:/Users/dario/Documents/Sentiment Analysis Lab/Congreso ciencia y feminismo/micromachismos sentiment_fin.xlsx')"
   ]
  },
  {
   "cell_type": "code",
   "execution_count": 8,
   "id": "8c7234c7",
   "metadata": {},
   "outputs": [
    {
     "data": {
      "text/html": [
       "<div>\n",
       "<style scoped>\n",
       "    .dataframe tbody tr th:only-of-type {\n",
       "        vertical-align: middle;\n",
       "    }\n",
       "\n",
       "    .dataframe tbody tr th {\n",
       "        vertical-align: top;\n",
       "    }\n",
       "\n",
       "    .dataframe thead th {\n",
       "        text-align: right;\n",
       "    }\n",
       "</style>\n",
       "<table border=\"1\" class=\"dataframe\">\n",
       "  <thead>\n",
       "    <tr style=\"text-align: right;\">\n",
       "      <th></th>\n",
       "      <th>Unnamed: 0</th>\n",
       "      <th>FRASES</th>\n",
       "      <th>lem</th>\n",
       "      <th>vadr</th>\n",
       "      <th>pol</th>\n",
       "      <th>pos</th>\n",
       "      <th>neg</th>\n",
       "      <th>neu</th>\n",
       "      <th>Unnamed: 8</th>\n",
       "      <th>Source</th>\n",
       "      <th>...</th>\n",
       "      <th>Unnamed: 13</th>\n",
       "      <th>Unnamed: 14</th>\n",
       "      <th>Unnamed: 15</th>\n",
       "      <th>Unnamed: 16</th>\n",
       "      <th>Unnamed: 17</th>\n",
       "      <th>Unnamed: 18</th>\n",
       "      <th>Unnamed: 19</th>\n",
       "      <th>Unnamed: 20</th>\n",
       "      <th>Unnamed: 21</th>\n",
       "      <th>Unnamed: 22</th>\n",
       "    </tr>\n",
       "  </thead>\n",
       "  <tbody>\n",
       "    <tr>\n",
       "      <th>0</th>\n",
       "      <td>0.0</td>\n",
       "      <td>Ni machismo, ni feminismo. Igualdad.</td>\n",
       "      <td>Ni machismo, ni feminismo. Igualdad.</td>\n",
       "      <td>0.0000</td>\n",
       "      <td>neu</td>\n",
       "      <td>0.0</td>\n",
       "      <td>0.0</td>\n",
       "      <td>NaN</td>\n",
       "      <td>NaN</td>\n",
       "      <td>micro</td>\n",
       "      <td>...</td>\n",
       "      <td>NaN</td>\n",
       "      <td>NaN</td>\n",
       "      <td>NaN</td>\n",
       "      <td>NaN</td>\n",
       "      <td>NaN</td>\n",
       "      <td>NaN</td>\n",
       "      <td>NaN</td>\n",
       "      <td>NaN</td>\n",
       "      <td>NaN</td>\n",
       "      <td>NaN</td>\n",
       "    </tr>\n",
       "    <tr>\n",
       "      <th>1</th>\n",
       "      <td>1.0</td>\n",
       "      <td>Yo siempre ayudo en casa, soy un hombre femini...</td>\n",
       "      <td>Yo siempre ayudo en casa, soy un hombre femini...</td>\n",
       "      <td>0.4019</td>\n",
       "      <td>pos</td>\n",
       "      <td>1.0</td>\n",
       "      <td>0.0</td>\n",
       "      <td>NaN</td>\n",
       "      <td>NaN</td>\n",
       "      <td>micro</td>\n",
       "      <td>...</td>\n",
       "      <td>NaN</td>\n",
       "      <td>NaN</td>\n",
       "      <td>NaN</td>\n",
       "      <td>NaN</td>\n",
       "      <td>NaN</td>\n",
       "      <td>NaN</td>\n",
       "      <td>NaN</td>\n",
       "      <td>NaN</td>\n",
       "      <td>NaN</td>\n",
       "      <td>NaN</td>\n",
       "    </tr>\n",
       "    <tr>\n",
       "      <th>2</th>\n",
       "      <td>2.0</td>\n",
       "      <td>Ahora todo es machismo, ya no se pueden hacer ...</td>\n",
       "      <td>Ahora todo e machismo, ya no se pueden hacer b...</td>\n",
       "      <td>-0.1877</td>\n",
       "      <td>neg</td>\n",
       "      <td>0.0</td>\n",
       "      <td>1.0</td>\n",
       "      <td>NaN</td>\n",
       "      <td>NaN</td>\n",
       "      <td>micro</td>\n",
       "      <td>...</td>\n",
       "      <td>NaN</td>\n",
       "      <td>NaN</td>\n",
       "      <td>NaN</td>\n",
       "      <td>NaN</td>\n",
       "      <td>NaN</td>\n",
       "      <td>NaN</td>\n",
       "      <td>NaN</td>\n",
       "      <td>NaN</td>\n",
       "      <td>NaN</td>\n",
       "      <td>NaN</td>\n",
       "    </tr>\n",
       "    <tr>\n",
       "      <th>3</th>\n",
       "      <td>3.0</td>\n",
       "      <td>Yo no soy feminista, no me gustan los extremos.</td>\n",
       "      <td>Yo no soy feminista, no me gustan los extremos.</td>\n",
       "      <td>-0.2755</td>\n",
       "      <td>neg</td>\n",
       "      <td>0.0</td>\n",
       "      <td>1.0</td>\n",
       "      <td>NaN</td>\n",
       "      <td>NaN</td>\n",
       "      <td>micro</td>\n",
       "      <td>...</td>\n",
       "      <td>NaN</td>\n",
       "      <td>NaN</td>\n",
       "      <td>NaN</td>\n",
       "      <td>NaN</td>\n",
       "      <td>NaN</td>\n",
       "      <td>NaN</td>\n",
       "      <td>NaN</td>\n",
       "      <td>NaN</td>\n",
       "      <td>NaN</td>\n",
       "      <td>NaN</td>\n",
       "    </tr>\n",
       "    <tr>\n",
       "      <th>4</th>\n",
       "      <td>4.0</td>\n",
       "      <td>Ese feminismo de ahora de odiar a los hombres ...</td>\n",
       "      <td>Ese feminismo de ahora de odiar a los hombre n...</td>\n",
       "      <td>-0.5106</td>\n",
       "      <td>neg</td>\n",
       "      <td>0.0</td>\n",
       "      <td>1.0</td>\n",
       "      <td>NaN</td>\n",
       "      <td>NaN</td>\n",
       "      <td>micro</td>\n",
       "      <td>...</td>\n",
       "      <td>NaN</td>\n",
       "      <td>NaN</td>\n",
       "      <td>NaN</td>\n",
       "      <td>NaN</td>\n",
       "      <td>NaN</td>\n",
       "      <td>NaN</td>\n",
       "      <td>NaN</td>\n",
       "      <td>NaN</td>\n",
       "      <td>NaN</td>\n",
       "      <td>NaN</td>\n",
       "    </tr>\n",
       "  </tbody>\n",
       "</table>\n",
       "<p>5 rows × 23 columns</p>\n",
       "</div>"
      ],
      "text/plain": [
       "   Unnamed: 0                                             FRASES  \\\n",
       "0         0.0              Ni machismo, ni feminismo. Igualdad.    \n",
       "1         1.0  Yo siempre ayudo en casa, soy un hombre femini...   \n",
       "2         2.0  Ahora todo es machismo, ya no se pueden hacer ...   \n",
       "3         3.0   Yo no soy feminista, no me gustan los extremos.    \n",
       "4         4.0  Ese feminismo de ahora de odiar a los hombres ...   \n",
       "\n",
       "                                                 lem    vadr  pol  pos  neg  \\\n",
       "0               Ni machismo, ni feminismo. Igualdad.  0.0000  neu  0.0  0.0   \n",
       "1  Yo siempre ayudo en casa, soy un hombre femini...  0.4019  pos  1.0  0.0   \n",
       "2  Ahora todo e machismo, ya no se pueden hacer b... -0.1877  neg  0.0  1.0   \n",
       "3    Yo no soy feminista, no me gustan los extremos. -0.2755  neg  0.0  1.0   \n",
       "4  Ese feminismo de ahora de odiar a los hombre n... -0.5106  neg  0.0  1.0   \n",
       "\n",
       "   neu  Unnamed: 8 Source  ... Unnamed: 13 Unnamed: 14 Unnamed: 15  \\\n",
       "0  NaN         NaN  micro  ...         NaN         NaN         NaN   \n",
       "1  NaN         NaN  micro  ...         NaN         NaN         NaN   \n",
       "2  NaN         NaN  micro  ...         NaN         NaN         NaN   \n",
       "3  NaN         NaN  micro  ...         NaN         NaN         NaN   \n",
       "4  NaN         NaN  micro  ...         NaN         NaN         NaN   \n",
       "\n",
       "  Unnamed: 16 Unnamed: 17 Unnamed: 18 Unnamed: 19  Unnamed: 20 Unnamed: 21  \\\n",
       "0         NaN         NaN         NaN         NaN          NaN         NaN   \n",
       "1         NaN         NaN         NaN         NaN          NaN         NaN   \n",
       "2         NaN         NaN         NaN         NaN          NaN         NaN   \n",
       "3         NaN         NaN         NaN         NaN          NaN         NaN   \n",
       "4         NaN         NaN         NaN         NaN          NaN         NaN   \n",
       "\n",
       "  Unnamed: 22  \n",
       "0         NaN  \n",
       "1         NaN  \n",
       "2         NaN  \n",
       "3         NaN  \n",
       "4         NaN  \n",
       "\n",
       "[5 rows x 23 columns]"
      ]
     },
     "execution_count": 8,
     "metadata": {},
     "output_type": "execute_result"
    }
   ],
   "source": [
    "df.head()"
   ]
  },
  {
   "cell_type": "code",
   "execution_count": 18,
   "id": "780231c7",
   "metadata": {},
   "outputs": [
    {
     "name": "stderr",
     "output_type": "stream",
     "text": [
      "C:\\Users\\dario\\AppData\\Local\\Temp/ipykernel_13580/1615038159.py:2: SettingWithCopyWarning: \n",
      "A value is trying to be set on a copy of a slice from a DataFrame\n",
      "\n",
      "See the caveats in the documentation: https://pandas.pydata.org/pandas-docs/stable/user_guide/indexing.html#returning-a-view-versus-a-copy\n",
      "  df['FRASES'][i]=str(df['FRASES'][i])\n",
      "C:\\Users\\dario\\AppData\\Local\\Temp/ipykernel_13580/1615038159.py:5: SettingWithCopyWarning: \n",
      "A value is trying to be set on a copy of a slice from a DataFrame\n",
      "\n",
      "See the caveats in the documentation: https://pandas.pydata.org/pandas-docs/stable/user_guide/indexing.html#returning-a-view-versus-a-copy\n",
      "  df['pol'][i]=output\n",
      "C:\\Users\\dario\\AppData\\Local\\Temp/ipykernel_13580/1615038159.py:6: SettingWithCopyWarning: \n",
      "A value is trying to be set on a copy of a slice from a DataFrame\n",
      "\n",
      "See the caveats in the documentation: https://pandas.pydata.org/pandas-docs/stable/user_guide/indexing.html#returning-a-view-versus-a-copy\n",
      "  df['lem'][i]=output\n"
     ]
    }
   ],
   "source": [
    "for i in range(0, len(df['FRASES'])):\n",
    "    df['FRASES'][i]=str(df['FRASES'][i])\n",
    "    text      = df['FRASES'][i]\n",
    "    output       = classifier(text)\n",
    "    df['pol'][i]=output\n",
    "    df['lem'][i]=output"
   ]
  },
  {
   "cell_type": "code",
   "execution_count": 19,
   "id": "2dc4b0da",
   "metadata": {},
   "outputs": [
    {
     "name": "stdout",
     "output_type": "stream",
     "text": [
      "0      0.800887\n",
      "1      0.882008\n",
      "2      0.808068\n",
      "3      0.780994\n",
      "4      0.695167\n",
      "         ...   \n",
      "123    0.680865\n",
      "124    0.680865\n",
      "125    0.680865\n",
      "126    0.680865\n",
      "127    0.680865\n",
      "Name: vadr, Length: 128, dtype: float64\n",
      "0      [{'label': 'neutral', 'score': 0.8008874654769...\n",
      "1      [{'label': 'neutral', 'score': 0.8820075392723...\n",
      "2      [{'label': 'neutral', 'score': 0.8080683350563...\n",
      "3      [{'label': 'neutral', 'score': 0.7809941172599...\n",
      "4      [{'label': 'neutral', 'score': 0.6951667666435...\n",
      "                             ...                        \n",
      "123    [{'label': 'neutral', 'score': 0.6808654069900...\n",
      "124    [{'label': 'neutral', 'score': 0.6808654069900...\n",
      "125    [{'label': 'neutral', 'score': 0.6808654069900...\n",
      "126    [{'label': 'neutral', 'score': 0.6808654069900...\n",
      "127    [{'label': 'neutral', 'score': 0.6808654069900...\n",
      "Name: pol, Length: 128, dtype: object\n"
     ]
    }
   ],
   "source": [
    "print (df['vadr'])\n",
    "print(df['pol'])"
   ]
  },
  {
   "cell_type": "code",
   "execution_count": 20,
   "id": "c1cde742",
   "metadata": {},
   "outputs": [],
   "source": [
    "df.to_excel('micromachismos sentiment_cardiffnlp_roberta.xlsx')"
   ]
  },
  {
   "cell_type": "code",
   "execution_count": null,
   "id": "bf8f8521",
   "metadata": {},
   "outputs": [],
   "source": []
  }
 ],
 "metadata": {
  "kernelspec": {
   "display_name": "Python 3 (ipykernel)",
   "language": "python",
   "name": "python3"
  },
  "language_info": {
   "codemirror_mode": {
    "name": "ipython",
    "version": 3
   },
   "file_extension": ".py",
   "mimetype": "text/x-python",
   "name": "python",
   "nbconvert_exporter": "python",
   "pygments_lexer": "ipython3",
   "version": "3.9.7"
  }
 },
 "nbformat": 4,
 "nbformat_minor": 5
}
